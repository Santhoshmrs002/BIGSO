{
 "cells": [
  {
   "cell_type": "code",
   "execution_count": 1,
   "metadata": {},
   "outputs": [
    {
     "name": "stdout",
     "output_type": "stream",
     "text": [
      "Requirement already satisfied: docxtpl in c:\\users\\santhosh\\appdata\\local\\programs\\python\\python311\\lib\\site-packages (0.17.0)\n",
      "Requirement already satisfied: six in c:\\users\\santhosh\\appdata\\roaming\\python\\python311\\site-packages (from docxtpl) (1.16.0)\n",
      "Requirement already satisfied: python-docx>=1.1.1 in c:\\users\\santhosh\\appdata\\local\\programs\\python\\python311\\lib\\site-packages (from docxtpl) (1.1.2)\n",
      "Requirement already satisfied: docxcompose in c:\\users\\santhosh\\appdata\\local\\programs\\python\\python311\\lib\\site-packages (from docxtpl) (1.4.0)\n",
      "Requirement already satisfied: jinja2 in c:\\users\\santhosh\\appdata\\local\\programs\\python\\python311\\lib\\site-packages (from docxtpl) (3.1.3)\n",
      "Requirement already satisfied: lxml in c:\\users\\santhosh\\appdata\\local\\programs\\python\\python311\\lib\\site-packages (from docxtpl) (5.1.0)\n",
      "Requirement already satisfied: typing-extensions>=4.9.0 in c:\\users\\santhosh\\appdata\\local\\programs\\python\\python311\\lib\\site-packages (from python-docx>=1.1.1->docxtpl) (4.11.0)\n",
      "Requirement already satisfied: setuptools in c:\\users\\santhosh\\appdata\\local\\programs\\python\\python311\\lib\\site-packages (from docxcompose->docxtpl) (65.5.0)\n",
      "Requirement already satisfied: babel in c:\\users\\santhosh\\appdata\\local\\programs\\python\\python311\\lib\\site-packages (from docxcompose->docxtpl) (2.14.0)\n",
      "Requirement already satisfied: MarkupSafe>=2.0 in c:\\users\\santhosh\\appdata\\local\\programs\\python\\python311\\lib\\site-packages (from jinja2->docxtpl) (2.1.3)\n",
      "Note: you may need to restart the kernel to use updated packages.\n"
     ]
    }
   ],
   "source": [
    "%pip install docxtpl"
   ]
  }
 ],
 "metadata": {
  "kernelspec": {
   "display_name": "Python 3",
   "language": "python",
   "name": "python3"
  },
  "language_info": {
   "codemirror_mode": {
    "name": "ipython",
    "version": 3
   },
   "file_extension": ".py",
   "mimetype": "text/x-python",
   "name": "python",
   "nbconvert_exporter": "python",
   "pygments_lexer": "ipython3",
   "version": "3.11.5"
  }
 },
 "nbformat": 4,
 "nbformat_minor": 2
}
